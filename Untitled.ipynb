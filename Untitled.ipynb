{
 "cells": [
  {
   "cell_type": "code",
   "execution_count": 1,
   "id": "bd2d751d-ba2c-47fb-8439-afe398526926",
   "metadata": {},
   "outputs": [
    {
     "name": "stdout",
     "output_type": "stream",
     "text": [
      "Created folder: AI_Lab/Week_01_CIFAR10\\notebooks\n",
      "Created folder: AI_Lab/Week_01_CIFAR10\\datasets\n",
      "Created folder: AI_Lab/Week_01_CIFAR10\\models\n",
      "Created folder: AI_Lab/Week_01_CIFAR10\\results\n",
      "\n",
      "✅ Folder structure and requirements.txt created successfully!\n"
     ]
    }
   ],
   "source": [
    "import os\n",
    "\n",
    "# 1. 만들 폴더 리스트\n",
    "base_dir = \"AI_Lab/Week_01_CIFAR10\"\n",
    "folders = [\"notebooks\", \"datasets\", \"models\", \"results\"]\n",
    "\n",
    "# 2. 폴더 생성\n",
    "for folder in folders:\n",
    "    path = os.path.join(base_dir, folder)\n",
    "    os.makedirs(path, exist_ok=True)\n",
    "    print(f\"Created folder: {path}\")\n",
    "\n",
    "# 3. requirements.txt 파일 만들기\n",
    "requirements = \"\"\"\n",
    "tensorflow==2.15.0\n",
    "keras==2.15.0\n",
    "numpy\n",
    "pandas\n",
    "matplotlib\n",
    "seaborn\n",
    "scikit-learn\n",
    "opencv-python\n",
    "ultralytics\n",
    "\"\"\"\n",
    "\n",
    "with open(os.path.join(\"AI_Lab\", \"requirements.txt\"), \"w\") as f:\n",
    "    f.write(requirements.strip())\n",
    "\n",
    "print(\"\\n✅ Folder structure and requirements.txt created successfully!\")\n"
   ]
  },
  {
   "cell_type": "code",
   "execution_count": null,
   "id": "b952d442-9cee-4875-98c8-36abfdeb9f80",
   "metadata": {},
   "outputs": [],
   "source": []
  }
 ],
 "metadata": {
  "kernelspec": {
   "display_name": "Python [conda env:base] *",
   "language": "python",
   "name": "conda-base-py"
  },
  "language_info": {
   "codemirror_mode": {
    "name": "ipython",
    "version": 3
   },
   "file_extension": ".py",
   "mimetype": "text/x-python",
   "name": "python",
   "nbconvert_exporter": "python",
   "pygments_lexer": "ipython3",
   "version": "3.12.7"
  }
 },
 "nbformat": 4,
 "nbformat_minor": 5
}
